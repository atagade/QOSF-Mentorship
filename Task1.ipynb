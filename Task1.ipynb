{
 "cells": [
  {
   "cell_type": "code",
   "execution_count": 99,
   "metadata": {},
   "outputs": [
    {
     "name": "stdout",
     "output_type": "stream",
     "text": [
      "[1, 1, 1, 1] [5.2890008710729255]\n"
     ]
    }
   ],
   "source": [
    "import numpy as np\n",
    "import random\n",
    "\n",
    "angle = [random.uniform(0,2*np.pi)]\n",
    "rand_vec = [np.random.randint(0,2) for i in range(4)]\n",
    "rand = str(rand_vec[0])+str(rand_vec[1])+str(rand_vec[2])+str(rand_vec[3])\n",
    "print(rand_vec, angle)"
   ]
  },
  {
   "cell_type": "code",
   "execution_count": 106,
   "metadata": {},
   "outputs": [],
   "source": [
    "from qiskit import QuantumCircuit\n",
    "from qiskit.circuit import Parameter\n",
    "from qiskit import Aer, execute\n",
    "from qiskit.aqua.components.optimizers import AQGD\n",
    "\n",
    "optimum_parameters = []\n",
    "epsilons = []\n",
    "L = 10\n",
    "\n",
    "def obj_fn(params):\n",
    "    result = execute(qc,simulator,shots=1024,parameter_binds = [{theta: params[0]}]).result()\n",
    "    counts = result.get_counts()\n",
    "    s = 0\n",
    "    for key,value in counts.items():\n",
    "        counts[key] = value/1024\n",
    "        if key == rand:\n",
    "            s = s + pow(1 - counts[key], 2)\n",
    "        else:\n",
    "            s = s + pow(counts[key],2)\n",
    "    return s\n",
    "\n",
    "for l in range(L):\n",
    "    theta = Parameter('θ')\n",
    "    qc = QuantumCircuit(4,4)\n",
    "\n",
    "    for i in range(l+1):\n",
    "        qc.rx(theta, range(4))\n",
    "        qc.barrier()\n",
    "\n",
    "        qc.rz(theta, range(4))\n",
    "        qc.cz(0,1)\n",
    "        qc.cz(0,2)\n",
    "        qc.cz(0,3)\n",
    "        qc.cz(1,2)\n",
    "        qc.cz(1,3)\n",
    "        qc.cz(2,3)\n",
    "        qc.barrier()\n",
    "\n",
    "    qc.measure([0,1,2,3],[0,1,2,3])\n",
    "    #qc.draw('mpl')    \n",
    "    simulator = Aer.get_backend('qasm_simulator')\n",
    "    \n",
    "    a = AQGD()\n",
    "    optimum_parameter, epsilon, it = AQGD.optimize(a,num_vars = 1,objective_function = obj_fn,initial_point=angle)\n",
    "    \n",
    "    optimum_parameters.append(optimum_parameter)\n",
    "    epsilons.append(epsilon)\n"
   ]
  },
  {
   "cell_type": "code",
   "execution_count": 107,
   "metadata": {},
   "outputs": [
    {
     "data": {
      "text/plain": [
       "[0.0,\n",
       " 0.124267578125,\n",
       " 0.0,\n",
       " 0.0498046875,\n",
       " 0.0,\n",
       " 0.19241714477539062,\n",
       " 0.0,\n",
       " 0.16997718811035156,\n",
       " 0.0,\n",
       " 0.155853271484375]"
      ]
     },
     "execution_count": 107,
     "metadata": {},
     "output_type": "execute_result"
    }
   ],
   "source": [
    "epsilons"
   ]
  },
  {
   "cell_type": "code",
   "execution_count": 108,
   "metadata": {},
   "outputs": [
    {
     "data": {
      "image/png": "[encoded data removed]",
      "text/plain": [
       "<Figure size 432x288 with 1 Axes>"
      ]
     },
     "metadata": {
      "needs_background": "light"
     },
     "output_type": "display_data"
    }
   ],
   "source": [
    "import matplotlib.pyplot as plt\n",
    "\n",
    "layers = [i+1 for i in range(10)]\n",
    "plt.plot(layers,epsilons)\n",
    "plt.xlabel('layers')\n",
    "plt.ylabel('epsilon')\n",
    "#plt.savefig('rand_1111ryrz')"
   ]
  },
  {
   "cell_type": "code",
   "execution_count": 80,
   "metadata": {},
   "outputs": [
    {
     "data": {
      "text/plain": [
       "<Figure size 432x288 with 0 Axes>"
      ]
     },
     "metadata": {},
     "output_type": "display_data"
    }
   ],
   "source": []
  },
  {
   "cell_type": "code",
   "execution_count": null,
   "metadata": {},
   "outputs": [],
   "source": []
  }
 ],
 "metadata": {
  "kernelspec": {
   "display_name": "Python 3",
   "language": "python",
   "name": "python3"
  },
  "language_info": {
   "codemirror_mode": {
    "name": "ipython",
    "version": 3
   },
   "file_extension": ".py",
   "mimetype": "text/x-python",
   "name": "python",
   "nbconvert_exporter": "python",
   "pygments_lexer": "ipython3",
   "version": "3.7.6"
  }
 },
 "nbformat": 4,
 "nbformat_minor": 4
}
