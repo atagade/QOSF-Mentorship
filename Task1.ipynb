{
 "cells": [
  {
   "cell_type": "markdown",
   "metadata": {},
   "source": [
    "## QOSF Mentorship Task 1\n",
    "***\n",
    "Hi, my name is Arush Tagade, I'll be attempting Task 1 as a screening task. Please move to the last cell for the final code and analysis. If you would like an insight in my thought process, please continue from the next cell. \n",
    "***\n",
    "\n",
    "The first step was to create the circuit according to the given scenario, I used Qiskit for this as I had prior experience with it and now after experimenting with Pennylane for the past two days, I can say that it has a better circuit drawing tool.\n",
    "\n",
    "The circuit has 4 qubits and two repeating blocks of operations that are parametrized by 'theta' and this lead to the simple circuit code in the following cell. I understand that I could define the blocks as two composite gates, in a more complex scenario this would be the technique I would opt for. The following code also demonstrates the circuit with different layers by modifying the variable L.\n"
   ]
  },
  {
   "cell_type": "code",
   "execution_count": 2,
   "metadata": {},
   "outputs": [
    {
     "data": {
      "image/png": "[encoded data removed]",
      "text/plain": [
       "<Figure size 983.577x325.08 with 1 Axes>"
      ]
     },
     "execution_count": 2,
     "metadata": {},
     "output_type": "execute_result"
    }
   ],
   "source": [
    "from qiskit import QuantumCircuit\n",
    "from qiskit.circuit import Parameter\n",
    "import numpy as np\n",
    "from qiskit import QuantumRegister\n",
    "\n",
    "L = 1\n",
    "theta = Parameter('θ')\n",
    "angle = np.random.randint(0,2*np.pi, size = 1)\n",
    "qc = QuantumCircuit(4,4)\n",
    "\n",
    "for l in range(L):\n",
    "    qc.rx(theta, range(4))\n",
    "    qc.barrier()\n",
    "\n",
    "    qc.rz(theta, range(4))\n",
    "    qc.cz(0,1)\n",
    "    qc.cz(0,2)\n",
    "    qc.cz(0,3)\n",
    "    qc.cz(1,2)\n",
    "    qc.cz(1,3)\n",
    "    qc.cz(2,3)\n",
    "    qc.barrier()\n",
    "\n",
    "qc.measure([0,1,2,3],[0,1,2,3])\n",
    "qc.draw('mpl')"
   ]
  },
  {
   "cell_type": "markdown",
   "metadata": {},
   "source": [
    "### Randomness\n",
    "\n",
    "The optimization process is supposed to start from a random initial point and use a random vector for cost function calculation. The variables angle and rand_vec are created to capture these requirements."
   ]
  },
  {
   "cell_type": "code",
   "execution_count": 4,
   "metadata": {},
   "outputs": [
    {
     "name": "stdout",
     "output_type": "stream",
     "text": [
      "[1, 1, 0, 0] [4.929205237040756]\n"
     ]
    }
   ],
   "source": [
    "import numpy as np\n",
    "import random\n",
    "\n",
    "angle = [random.uniform(0,2*np.pi)]\n",
    "rand_vec = [np.random.randint(0,2) for i in range(4)]\n",
    "rand = str(rand_vec[0])+str(rand_vec[1])+str(rand_vec[2])+str(rand_vec[3]) #this conversion is necessary for a comparison later\n",
    "print(rand_vec, angle)"
   ]
  },
  {
   "cell_type": "markdown",
   "metadata": {},
   "source": [
    "### Cost Function\n",
    "\n",
    "Now the cost function needs to be defined using the random vector and output vector of the circuit. For this I used the qasm simulator, I understand this brings noise to the process and I used this in the hope of a more realistic simulation. Now the cost function is defined as \n",
    "                                                $$\\epsilon = ||  |\\Psi(\\theta)> - |\\phi> ||$$\n",
    "where |$\\phi$> is the random vector and the || || operation is the sum of squares of the components of the enclosed vector.\n",
    "\n",
    "The output vector is given by, \n",
    "                   $$|\\Psi(\\theta)> = \\alpha_{0000}*|0000> + \\alpha_{0001}*|0001> + ... + \\alpha_{1111}*|1111>$$  \n",
    "This expansion is used to calculate the cost function by subtracting 1 from the coefficient corresponding to the random vector and then calculating the sum of squares of the coefficients, where the coefficients are the probability of occurence of the state after 1024 runs of the given circuit."
   ]
  },
  {
   "cell_type": "code",
   "execution_count": 5,
   "metadata": {},
   "outputs": [],
   "source": [
    "def cost_func(params):\n",
    "    result = execute(qc,simulator,shots=1024,parameter_binds = [{theta: params[0]}]).result()\n",
    "    counts = result.get_counts()\n",
    "    s = 0\n",
    "    for key,value in counts.items():\n",
    "        counts[key] = value/1024\n",
    "        if key == rand:\n",
    "            s = s + pow(1 - counts[key], 2)\n",
    "        else:\n",
    "            s = s + pow(counts[key],2)\n",
    "    return s"
   ]
  },
  {
   "cell_type": "markdown",
   "metadata": {},
   "source": [
    "### Optimizer\n",
    "\n",
    "I've chosen to use the Analytic Quantum Gradient Descent (AQGD) optimizer, which is part of the qiskit-aqua environment. The basic idea behind it is that the gradient of a parametrized circuit can be calculated analytically by subracting two results from the same circuit. The first result is obtained by adding $\\pi/2$ to the phase and the second one by subracting $\\pi/2$ from the phase, these two results are then subtracted to return the gradient of the circuit. \n",
    "\n",
    "More information regarding the process can be found here: https://arxiv.org/pdf/1803.00745.pdf"
   ]
  },
  {
   "cell_type": "code",
   "execution_count": 1,
   "metadata": {},
   "outputs": [
    {
     "ename": "NameError",
     "evalue": "name 'AQGD' is not defined",
     "output_type": "error",
     "traceback": [
      "\u001b[1;31m---------------------------------------------------------------------------\u001b[0m",
      "\u001b[1;31mNameError\u001b[0m                                 Traceback (most recent call last)",
      "\u001b[1;32m<ipython-input-1-d3df40b594fd>\u001b[0m in \u001b[0;36m<module>\u001b[1;34m\u001b[0m\n\u001b[1;32m----> 1\u001b[1;33m \u001b[0ma\u001b[0m \u001b[1;33m=\u001b[0m \u001b[0mAQGD\u001b[0m\u001b[1;33m(\u001b[0m\u001b[1;33m)\u001b[0m\u001b[1;33m\u001b[0m\u001b[1;33m\u001b[0m\u001b[0m\n\u001b[0m\u001b[0;32m      2\u001b[0m \u001b[0moptimum_parameter\u001b[0m\u001b[1;33m,\u001b[0m \u001b[0mepsilon\u001b[0m\u001b[1;33m,\u001b[0m \u001b[0mit\u001b[0m \u001b[1;33m=\u001b[0m \u001b[0mAQGD\u001b[0m\u001b[1;33m.\u001b[0m\u001b[0moptimize\u001b[0m\u001b[1;33m(\u001b[0m\u001b[0ma\u001b[0m\u001b[1;33m,\u001b[0m\u001b[0mnum_vars\u001b[0m \u001b[1;33m=\u001b[0m \u001b[1;36m1\u001b[0m\u001b[1;33m,\u001b[0m\u001b[0mobjective_function\u001b[0m \u001b[1;33m=\u001b[0m \u001b[0mobj_fn\u001b[0m\u001b[1;33m,\u001b[0m\u001b[0minitial_point\u001b[0m\u001b[1;33m=\u001b[0m\u001b[0mangle\u001b[0m\u001b[1;33m)\u001b[0m\u001b[1;33m\u001b[0m\u001b[1;33m\u001b[0m\u001b[0m\n",
      "\u001b[1;31mNameError\u001b[0m: name 'AQGD' is not defined"
     ]
    }
   ],
   "source": [
    "from qiskit.aqua.components.optimizers import AQGD\n",
    "a = AQGD()\n",
    "optimum_parameter, epsilon, it = AQGD.optimize(a,num_vars = 1,objective_function = obj_fn,initial_point=angle)"
   ]
  },
  {
   "cell_type": "markdown",
   "metadata": {},
   "source": [
    "### Final Code\n",
    "\n",
    "Using all the above modules, I've written code that returns a list of the minimum epsilon for a given number of layers. The following cell can also be run independantly. "
   ]
  },
  {
   "cell_type": "code",
   "execution_count": 106,
   "metadata": {},
   "outputs": [],
   "source": [
    "from qiskit import QuantumCircuit\n",
    "from qiskit.circuit import Parameter\n",
    "from qiskit import Aer, execute\n",
    "from qiskit.aqua.components.optimizers import AQGD\n",
    "\n",
    "optimum_parameters = []\n",
    "epsilons = []\n",
    "L = 10\n",
    "\n",
    "def obj_fn(params):\n",
    "    result = execute(qc,simulator,shots=1024,parameter_binds = [{theta: params[0]}]).result()\n",
    "    counts = result.get_counts()\n",
    "    s = 0\n",
    "    for key,value in counts.items():\n",
    "        counts[key] = value/1024\n",
    "        if key == rand:\n",
    "            s = s + pow(1 - counts[key], 2)\n",
    "        else:\n",
    "            s = s + pow(counts[key],2)\n",
    "    return s\n",
    "\n",
    "for l in range(L):\n",
    "    theta = Parameter('θ')\n",
    "    qc = QuantumCircuit(4,4)\n",
    "\n",
    "    for i in range(l+1):\n",
    "        qc.rx(theta, range(4))\n",
    "        qc.barrier()\n",
    "\n",
    "        qc.rz(theta, range(4))\n",
    "        qc.cz(0,1)\n",
    "        qc.cz(0,2)\n",
    "        qc.cz(0,3)\n",
    "        qc.cz(1,2)\n",
    "        qc.cz(1,3)\n",
    "        qc.cz(2,3)\n",
    "        qc.barrier()\n",
    "\n",
    "    qc.measure([0,1,2,3],[0,1,2,3])\n",
    "    #qc.draw('mpl')    \n",
    "    simulator = Aer.get_backend('qasm_simulator')\n",
    "    \n",
    "    a = AQGD()\n",
    "    optimum_parameter, epsilon, it = AQGD.optimize(a,num_vars = 1,objective_function = obj_fn,initial_point=angle)\n",
    "    \n",
    "    optimum_parameters.append(optimum_parameter)\n",
    "    epsilons.append(epsilon)\n"
   ]
  },
  {
   "cell_type": "markdown",
   "metadata": {},
   "source": [
    "### Plotting graphs\n",
    "\n",
    "The following simple matplotlib code was used to generate all the graphs present in the final analysis"
   ]
  },
  {
   "cell_type": "code",
   "execution_count": 108,
   "metadata": {},
   "outputs": [
    {
     "data": {
      "image/png": "[encoded data removed]",
      "text/plain": [
       "<Figure size 432x288 with 1 Axes>"
      ]
     },
     "metadata": {
      "needs_background": "light"
     },
     "output_type": "display_data"
    }
   ],
   "source": [
    "import matplotlib.pyplot as plt\n",
    "\n",
    "layers = [i+1 for i in range(10)]\n",
    "plt.plot(layers,epsilons)\n",
    "plt.xlabel('layers')\n",
    "plt.ylabel('epsilon')\n",
    "#plt.savefig('rand_1111ryrz')"
   ]
  },
  {
   "attachments": {},
   "cell_type": "markdown",
   "metadata": {},
   "source": []
  },
  {
   "cell_type": "code",
   "execution_count": null,
   "metadata": {},
   "outputs": [],
   "source": []
  }
 ],
 "metadata": {
  "kernelspec": {
   "display_name": "Python 3",
   "language": "python",
   "name": "python3"
  },
  "language_info": {
   "codemirror_mode": {
    "name": "ipython",
    "version": 3
   },
   "file_extension": ".py",
   "mimetype": "text/x-python",
   "name": "python",
   "nbconvert_exporter": "python",
   "pygments_lexer": "ipython3",
   "version": "3.7.6"
  }
 },
 "nbformat": 4,
 "nbformat_minor": 4
}
